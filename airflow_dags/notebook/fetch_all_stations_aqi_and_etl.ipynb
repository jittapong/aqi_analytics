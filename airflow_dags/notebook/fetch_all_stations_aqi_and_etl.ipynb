{
 "cells": [
  {
   "cell_type": "code",
   "execution_count": 1,
   "metadata": {},
   "outputs": [
    {
     "name": "stdout",
     "output_type": "stream",
     "text": [
      "[10482, 8322, 13629, 1826, 13439, 1825, 3688, 13636, 1867, 3686, 1865, 2585, 2581, 2583, 1831, 9498, 13637, 1814, 6814, 6818, 1852, 13631, 11783, 1819, 1849, 1860, 4693, 1844, 1866, 2599, 1827, 13666, 8503, 1868, 9556, 13630, 13576, 13635, 9013, 8325, 1863, 1869, 1836, 1843, 13438, 12759, 1830, 12760, 13632, 1854, 12797, 8641, 13633, 1822, 1829, 1870, 5534, 1842, 1815, 8324, 13687, 2582, 13628, 1812, 12796, 10481, 11784, 9450, 9014, 12795, 13763, 1833, 6817, 9587, 1832, 14927, 1816, 1817, 1823, 1813, 1828, 1859]\n"
     ]
    }
   ],
   "source": [
    "import psycopg2\n",
    "\n",
    "# Database connection parameters\n",
    "db_params = {\n",
    "    'dbname': 'air_data',\n",
    "    'user': 'admin',\n",
    "    'password': 'adminpassword',\n",
    "    'host': 'localhost',\n",
    "    'port': '54329'\n",
    "}\n",
    "\n",
    "# Connect to the database\n",
    "conn = psycopg2.connect(**db_params)\n",
    "\n",
    "# Create a cursor object\n",
    "cur = conn.cursor()\n",
    "\n",
    "# Execute the query to get all station uids from station_info table\n",
    "cur.execute(\"SELECT uid FROM station_info\")\n",
    "\n",
    "# Fetch all the results\n",
    "results = cur.fetchall()\n",
    "\n",
    "# Close the cursor and connection\n",
    "cur.close()\n",
    "conn.close()\n",
    "\n",
    "# Extract the uids from the results\n",
    "uids = [result[0] for result in results]\n",
    "\n",
    "# Print the uids\n",
    "print(uids)"
   ]
  },
  {
   "cell_type": "code",
   "execution_count": null,
   "metadata": {},
   "outputs": [],
   "source": []
  }
 ],
 "metadata": {
  "kernelspec": {
   "display_name": ".venv",
   "language": "python",
   "name": "python3"
  },
  "language_info": {
   "codemirror_mode": {
    "name": "ipython",
    "version": 3
   },
   "file_extension": ".py",
   "mimetype": "text/x-python",
   "name": "python",
   "nbconvert_exporter": "python",
   "pygments_lexer": "ipython3",
   "version": "3.12.6"
  }
 },
 "nbformat": 4,
 "nbformat_minor": 2
}
