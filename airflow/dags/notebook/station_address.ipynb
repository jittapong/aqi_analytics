{
 "cells": [
  {
   "cell_type": "code",
   "execution_count": null,
   "metadata": {},
   "outputs": [
    {
     "name": "stdout",
     "output_type": "stream",
     "text": [
      "{'place_id': 235735060, 'licence': 'Data © OpenStreetMap contributors, ODbL 1.0. http://osm.org/copyright', 'osm_type': 'way', 'osm_id': 863555215, 'lat': '13.872459758894781', 'lon': '99.81664458724438', 'class': 'highway', 'type': 'primary', 'place_rank': 26, 'importance': 0.053383334859235486, 'addresstype': 'road', 'name': 'ถนนแสงชูโต', 'display_name': 'ถนนแสงชูโต, ท่ามะกา, ท่าไม้, จังหวัดกาญจนบุรี, 71120, ประเทศไทย', 'address': {'road': 'ถนนแสงชูโต', 'residential': 'ท่ามะกา', 'town': 'ท่ามะกา', 'municipality': 'ท่าไม้', 'province': 'จังหวัดกาญจนบุรี', 'ISO3166-2-lvl4': 'TH-71', 'postcode': '71120', 'country': 'ประเทศไทย', 'country_code': 'th'}, 'boundingbox': ['13.8308114', '13.9271684', '99.7614468', '99.8687667']}\n",
      "ถนนแสงชูโต\n",
      "ท่ามะกา\n",
      "ท่าไม้\n",
      "จังหวัดกาญจนบุรี\n",
      "71120\n",
      "ประเทศไทย\n",
      "th\n"
     ]
    }
   ],
   "source": [
    "from geopy.geocoders import Nominatim\n",
    "\n",
    "# Initialize Nominatim API\n",
    "geolocator = Nominatim(user_agent=\"aqi_analytics\")\n",
    "\n",
    "# Coordinates\n",
    "latitude = 13.872468\n",
    "longitude = 99.816651\n",
    "\n",
    "# Get location\n",
    "location = geolocator.reverse(f\"{latitude}, {longitude}\")\n",
    "print(location.raw)\n",
    "\n",
    "# Print address\n",
    "address = location.raw[\"address\"]\n",
    "print(address[\"road\"])\n",
    "print(address[\"town\"])\n",
    "print(address[\"municipality\"])\n",
    "print(address[\"province\"])\n",
    "print(address[\"postcode\"])\n",
    "print(address[\"country\"])\n",
    "print(address[\"country_code\"])"
   ]
  }
 ],
 "metadata": {
  "kernelspec": {
   "display_name": "Python 3",
   "language": "python",
   "name": "python3"
  },
  "language_info": {
   "codemirror_mode": {
    "name": "ipython",
    "version": 3
   },
   "file_extension": ".py",
   "mimetype": "text/x-python",
   "name": "python",
   "nbconvert_exporter": "python",
   "pygments_lexer": "ipython3",
   "version": "3.12.7"
  }
 },
 "nbformat": 4,
 "nbformat_minor": 2
}
