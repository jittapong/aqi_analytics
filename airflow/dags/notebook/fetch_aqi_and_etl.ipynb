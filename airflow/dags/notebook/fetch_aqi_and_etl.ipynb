{
 "cells": [
  {
   "cell_type": "code",
   "execution_count": 6,
   "metadata": {},
   "outputs": [],
   "source": [
    "import sys\n",
    "import os\n",
    "\n",
    "# Add the path to the aqi package\n",
    "aqi_path = os.path.abspath('../../../airflow')\n",
    "sys.path.append(aqi_path)\n",
    "\n",
    "from plugins.hooks.aqi import fetch_data\n",
    "from dags.etl.aqi import validate_data, parse_data, clean_data, push_to_db"
   ]
  },
  {
   "cell_type": "code",
   "execution_count": 7,
   "metadata": {},
   "outputs": [
    {
     "name": "stdout",
     "output_type": "stream",
     "text": [
      "<Response [200]>\n",
      "{'status': 'ok', 'data': {'aqi': 122, 'idx': 6814, 'attributions': [{'url': 'http://aqmthai.com/', 'name': 'Division of Air Quality Data, Air Quality and Noise Management Bureau, Pollution Control Department.', 'logo': 'Thailand-PCD.png'}, {'url': 'https://waqi.info/', 'name': 'World Air Quality Index Project'}], 'city': {'geo': [13.5502631, 100.2647676], 'name': 'Provincial Administrative Organization, Samut Sakhon, Thailand (องค์การบริหารส่วนจังหวัดสมุทรสาคร)', 'url': 'https://aqicn.org/city/thailand/samut-sakhon/provincial-administrative-organization', 'location': ''}, 'dominentpol': 'pm25', 'iaqi': {'dew': {'v': -7.6}, 'h': {'v': 11}, 'no2': {'v': 7.5}, 'o3': {'v': 2.8}, 'p': {'v': 1018}, 'pm10': {'v': 33}, 'pm25': {'v': 122}, 'r': {'v': 99.9}, 'so2': {'v': 55.4}, 't': {'v': 24.9}, 'w': {'v': 1}}, 'time': {'s': '2025-02-25 09:00:00', 'tz': '+07:00', 'v': 1740474000, 'iso': '2025-02-25T09:00:00+07:00'}, 'forecast': {'daily': {'pm10': [{'avg': 49, 'day': '2025-02-23', 'max': 51, 'min': 46}, {'avg': 38, 'day': '2025-02-24', 'max': 57, 'min': 27}, {'avg': 44, 'day': '2025-02-25', 'max': 53, 'min': 27}, {'avg': 51, 'day': '2025-02-26', 'max': 64, 'min': 28}, {'avg': 51, 'day': '2025-02-27', 'max': 58, 'min': 45}, {'avg': 38, 'day': '2025-02-28', 'max': 57, 'min': 19}, {'avg': 39, 'day': '2025-03-01', 'max': 52, 'min': 23}, {'avg': 37, 'day': '2025-03-02', 'max': 45, 'min': 28}, {'avg': 42, 'day': '2025-03-03', 'max': 45, 'min': 28}], 'pm25': [{'avg': 145, 'day': '2025-02-23', 'max': 151, 'min': 138}, {'avg': 113, 'day': '2025-02-24', 'max': 158, 'min': 88}, {'avg': 131, 'day': '2025-02-25', 'max': 153, 'min': 88}, {'avg': 142, 'day': '2025-02-26', 'max': 165, 'min': 89}, {'avg': 146, 'day': '2025-02-27', 'max': 158, 'min': 134}, {'avg': 112, 'day': '2025-02-28', 'max': 157, 'min': 68}, {'avg': 115, 'day': '2025-03-01', 'max': 152, 'min': 68}, {'avg': 111, 'day': '2025-03-02', 'max': 135, 'min': 87}, {'avg': 123, 'day': '2025-03-03', 'max': 135, 'min': 88}], 'uvi': [{'avg': 0, 'day': '2025-02-24', 'max': 0, 'min': 0}, {'avg': 1, 'day': '2025-02-25', 'max': 8, 'min': 0}, {'avg': 3, 'day': '2025-02-26', 'max': 11, 'min': 0}, {'avg': 2, 'day': '2025-02-27', 'max': 11, 'min': 0}, {'avg': 2, 'day': '2025-02-28', 'max': 9, 'min': 0}, {'avg': 4, 'day': '2025-03-01', 'max': 10, 'min': 0}]}}, 'debug': {'sync': '2025-02-25T11:11:12+09:00'}}}\n",
      "ok\n",
      "9\n"
     ]
    }
   ],
   "source": [
    "aqi_data = fetch_data(\"6814\")\n",
    "print(aqi_data['status'])\n",
    "print(len(aqi_data['data']))"
   ]
  },
  {
   "cell_type": "code",
   "execution_count": 8,
   "metadata": {},
   "outputs": [
    {
     "data": {
      "text/plain": [
       "True"
      ]
     },
     "execution_count": 8,
     "metadata": {},
     "output_type": "execute_result"
    }
   ],
   "source": [
    "validate_data(aqi_data)"
   ]
  },
  {
   "cell_type": "code",
   "execution_count": 9,
   "metadata": {},
   "outputs": [
    {
     "name": "stdout",
     "output_type": "stream",
     "text": [
      "6814\n",
      "    uid                                            address  aqi  dew   h   o3  \\\n",
      "0  6814  Provincial Administrative Organization, Samut ...  122 -7.6  11  2.8   \n",
      "\n",
      "      p  pm10  pm25     r     t  w                 timestamp  \\\n",
      "0  1018    33   122  99.9  24.9  1 2025-02-25 09:00:00+07:00   \n",
      "\n",
      "                                            forecast  \n",
      "0  {\"pm10\": [{\"avg\": 49, \"day\": \"2025-02-23\", \"ma...  \n"
     ]
    }
   ],
   "source": [
    "print(aqi_data[\"data\"].get(\"idx\"))\n",
    "\n",
    "parse_aqi_data = parse_data(aqi_data)\n",
    "print(parse_aqi_data)"
   ]
  },
  {
   "cell_type": "code",
   "execution_count": 5,
   "metadata": {},
   "outputs": [
    {
     "name": "stdout",
     "output_type": "stream",
     "text": [
      "    idx                                            address  aqi  dew     h  \\\n",
      "0  6814  Provincial Administrative Organization, Samut ...   70 -7.9  10.1   \n",
      "\n",
      "    o3       p  pm10  pm25     r   t  w                 timestamp  \\\n",
      "0  2.8  1016.7    33    70  99.8  26  1 2025-02-24 23:00:00+07:00   \n",
      "\n",
      "                                            forecast  \n",
      "0  {\"o3\": [{\"avg\": 13, \"day\": \"2025-02-22\", \"max\"...  \n"
     ]
    }
   ],
   "source": [
    "clean_aqi_data = clean_data(parse_aqi_data)\n",
    "print(clean_aqi_data)"
   ]
  },
  {
   "cell_type": "code",
   "execution_count": 11,
   "metadata": {},
   "outputs": [],
   "source": [
    "import psycopg2\n",
    "\n",
    "# Database connection parameters\n",
    "db_params = {\n",
    "    'dbname': 'air_data',\n",
    "    'user': 'admin',\n",
    "    'password': 'adminpassword',\n",
    "    'host': 'localhost',\n",
    "    'port': '54329'\n",
    "}\n",
    "\n",
    "# Establish a connection to the PostgreSQL database\n",
    "conn = psycopg2.connect(**db_params)\n",
    "\n",
    "# Push the cleaned AQI data to the database\n",
    "push_data = push_to_db(conn, clean_aqi_data)\n",
    "\n",
    "# Close the connection\n",
    "conn.close()"
   ]
  }
 ],
 "metadata": {
  "kernelspec": {
   "display_name": "Python 3",
   "language": "python",
   "name": "python3"
  },
  "language_info": {
   "codemirror_mode": {
    "name": "ipython",
    "version": 3
   },
   "file_extension": ".py",
   "mimetype": "text/x-python",
   "name": "python",
   "nbconvert_exporter": "python",
   "pygments_lexer": "ipython3",
   "version": "3.12.7"
  }
 },
 "nbformat": 4,
 "nbformat_minor": 2
}
