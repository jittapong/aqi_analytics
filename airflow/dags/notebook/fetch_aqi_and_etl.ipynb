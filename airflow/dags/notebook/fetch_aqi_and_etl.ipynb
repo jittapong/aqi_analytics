{
 "cells": [
  {
   "cell_type": "code",
   "execution_count": 1,
   "metadata": {},
   "outputs": [],
   "source": [
    "import sys\n",
    "import os\n",
    "\n",
    "# Add the path to the aqi package\n",
    "aqi_path = os.path.abspath('../aqi')\n",
    "sys.path.append(aqi_path)\n",
    "\n",
    "from fetch import fetch_data\n",
    "from etl import validate_data, parse_data, clean_data, push_to_db"
   ]
  },
  {
   "cell_type": "code",
   "execution_count": 7,
   "metadata": {},
   "outputs": [
    {
     "name": "stdout",
     "output_type": "stream",
     "text": [
      "<Response [200]>\n",
      "{'status': 'ok', 'data': {'aqi': 85, 'idx': 6814, 'attributions': [{'url': 'http://aqmthai.com/', 'name': 'Division of Air Quality Data, Air Quality and Noise Management Bureau, Pollution Control Department.', 'logo': 'Thailand-PCD.png'}, {'url': 'https://waqi.info/', 'name': 'World Air Quality Index Project'}], 'city': {'geo': [13.5502631, 100.2647676], 'name': 'Provincial Administrative Organization, Samut Sakhon, Thailand (องค์การบริหารส่วนจังหวัดสมุทรสาคร)', 'url': 'https://aqicn.org/city/thailand/samut-sakhon/provincial-administrative-organization', 'location': ''}, 'dominentpol': 'pm25', 'iaqi': {'dew': {'v': -5.2}, 'h': {'v': 8.4}, 'no2': {'v': 7.5}, 'o3': {'v': 2.8}, 'p': {'v': 1012.4}, 'pm10': {'v': 33}, 'pm25': {'v': 85}, 'r': {'v': 0.6}, 'so2': {'v': 2.7}, 't': {'v': 32.7}, 'w': {'v': 0.5}}, 'time': {'s': '2025-02-23 20:00:00', 'tz': '+07:00', 'v': 1740340800, 'iso': '2025-02-23T20:00:00+07:00'}, 'forecast': {'daily': {'o3': [{'avg': 9, 'day': '2025-02-21', 'max': 19, 'min': 3}, {'avg': 13, 'day': '2025-02-22', 'max': 15, 'min': 11}], 'pm10': [{'avg': 53, 'day': '2025-02-21', 'max': 54, 'min': 52}, {'avg': 60, 'day': '2025-02-22', 'max': 66, 'min': 46}, {'avg': 58, 'day': '2025-02-23', 'max': 73, 'min': 46}, {'avg': 45, 'day': '2025-02-24', 'max': 58, 'min': 28}, {'avg': 46, 'day': '2025-02-25', 'max': 46, 'min': 45}, {'avg': 58, 'day': '2025-02-26', 'max': 72, 'min': 46}, {'avg': 55, 'day': '2025-02-27', 'max': 58, 'min': 46}, {'avg': 60, 'day': '2025-02-28', 'max': 73, 'min': 45}, {'avg': 62, 'day': '2025-03-01', 'max': 71, 'min': 46}], 'pm25': [{'avg': 145, 'day': '2025-02-21', 'max': 151, 'min': 138}, {'avg': 160, 'day': '2025-02-22', 'max': 167, 'min': 138}, {'avg': 157, 'day': '2025-02-23', 'max': 174, 'min': 138}, {'avg': 134, 'day': '2025-02-24', 'max': 158, 'min': 89}, {'avg': 137, 'day': '2025-02-25', 'max': 138, 'min': 135}, {'avg': 155, 'day': '2025-02-26', 'max': 173, 'min': 135}, {'avg': 155, 'day': '2025-02-27', 'max': 159, 'min': 138}, {'avg': 157, 'day': '2025-02-28', 'max': 174, 'min': 135}, {'avg': 162, 'day': '2025-03-01', 'max': 172, 'min': 135}], 'uvi': [{'avg': 2, 'day': '2025-02-23', 'max': 8, 'min': 0}, {'avg': 2, 'day': '2025-02-24', 'max': 8, 'min': 0}, {'avg': 1, 'day': '2025-02-25', 'max': 6, 'min': 0}, {'avg': 2, 'day': '2025-02-26', 'max': 9, 'min': 0}, {'avg': 3, 'day': '2025-02-27', 'max': 11, 'min': 0}, {'avg': 0, 'day': '2025-02-28', 'max': 0, 'min': 0}]}}, 'debug': {'sync': '2025-02-23T22:21:19+09:00'}}}\n",
      "ok\n",
      "9\n"
     ]
    }
   ],
   "source": [
    "aqi_data = fetch_data(\"6814\")\n",
    "print(aqi_data['status'])\n",
    "print(len(aqi_data['data']))"
   ]
  },
  {
   "cell_type": "code",
   "execution_count": 8,
   "metadata": {},
   "outputs": [],
   "source": [
    "validate_data(aqi_data)"
   ]
  },
  {
   "cell_type": "code",
   "execution_count": 9,
   "metadata": {},
   "outputs": [
    {
     "name": "stdout",
     "output_type": "stream",
     "text": [
      "6814\n",
      "    idx                                            address  aqi  dew    h  \\\n",
      "0  6814  Provincial Administrative Organization, Samut ...   85 -5.2  8.4   \n",
      "\n",
      "    o3       p  pm10  pm25    r     t    w                 timestamp  \\\n",
      "0  2.8  1012.4    33    85  0.6  32.7  0.5 2025-02-23 20:00:00+07:00   \n",
      "\n",
      "                                            forecast  \n",
      "0  {\"o3\": [{\"avg\": 9, \"day\": \"2025-02-21\", \"max\":...  \n"
     ]
    }
   ],
   "source": [
    "print(aqi_data[\"data\"].get(\"idx\"))\n",
    "\n",
    "parse_aqi_data = parse_data(aqi_data)\n",
    "print(parse_aqi_data)"
   ]
  },
  {
   "cell_type": "code",
   "execution_count": 10,
   "metadata": {},
   "outputs": [
    {
     "name": "stdout",
     "output_type": "stream",
     "text": [
      "    idx                                            address  aqi  dew    h  \\\n",
      "0  6814  Provincial Administrative Organization, Samut ...   85 -5.2  8.4   \n",
      "\n",
      "    o3       p  pm10  pm25    r     t    w                 timestamp  \\\n",
      "0  2.8  1012.4    33    85  0.6  32.7  0.5 2025-02-23 20:00:00+07:00   \n",
      "\n",
      "                                            forecast  \n",
      "0  {\"o3\": [{\"avg\": 9, \"day\": \"2025-02-21\", \"max\":...  \n"
     ]
    }
   ],
   "source": [
    "clean_aqi_data = clean_data(parse_aqi_data)\n",
    "print(clean_aqi_data)"
   ]
  },
  {
   "cell_type": "code",
   "execution_count": 11,
   "metadata": {},
   "outputs": [],
   "source": [
    "import psycopg2\n",
    "\n",
    "# Database connection parameters\n",
    "db_params = {\n",
    "    'dbname': 'air_data',\n",
    "    'user': 'admin',\n",
    "    'password': 'adminpassword',\n",
    "    'host': 'localhost',\n",
    "    'port': '54329'\n",
    "}\n",
    "\n",
    "# Establish a connection to the PostgreSQL database\n",
    "conn = psycopg2.connect(**db_params)\n",
    "\n",
    "# Push the cleaned AQI data to the database\n",
    "push_data = push_to_db(conn, clean_aqi_data)\n",
    "\n",
    "# Close the connection\n",
    "conn.close()"
   ]
  }
 ],
 "metadata": {
  "kernelspec": {
   "display_name": "Python 3",
   "language": "python",
   "name": "python3"
  },
  "language_info": {
   "codemirror_mode": {
    "name": "ipython",
    "version": 3
   },
   "file_extension": ".py",
   "mimetype": "text/x-python",
   "name": "python",
   "nbconvert_exporter": "python",
   "pygments_lexer": "ipython3",
   "version": "3.12.6"
  }
 },
 "nbformat": 4,
 "nbformat_minor": 2
}
