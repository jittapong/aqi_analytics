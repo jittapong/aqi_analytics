{
 "cells": [
  {
   "cell_type": "code",
   "execution_count": 1,
   "metadata": {},
   "outputs": [],
   "source": [
    "import sys\n",
    "import os\n",
    "\n",
    "# Add the path to the aqi package\n",
    "aqi_path = os.path.abspath('../station')\n",
    "sys.path.append(aqi_path)\n",
    "\n",
    "from fetch import fetch_data\n",
    "from etl import validate_data, parse_data, clean_data, push_to_db"
   ]
  },
  {
   "cell_type": "code",
   "execution_count": 2,
   "metadata": {},
   "outputs": [
    {
     "name": "stdout",
     "output_type": "stream",
     "text": [
      "<Response [200]>\n",
      "{'status': 'ok', 'data': [{'lat': 19.858547, 'lon': 99.90148, 'uid': 9587, 'aqi': '67', 'station': {'name': 'Chiangrai - Gaia Station 07, Thailand', 'time': '2025-02-23T21:00:00+09:00'}}, {'lat': 5.629631, 'lon': 100.467771, 'uid': 2582, 'aqi': '35', 'station': {'name': 'Bakar Arang, Sg. Petani, Kedah, Malaysia', 'time': '2025-02-23T21:00:00+09:00'}}, {'lat': 20.320741, 'lon': 105.745489, 'uid': 13763, 'aqi': '26', 'station': {'name': 'Ninh Bình/Cúc Phương, Đông Phong, Nho Quan - KTTV - Trạm cảm biến, Vietnam', 'time': '2025-02-23T21:00:00+09:00'}}, {'lat': 14.022376, 'lon': 99.536195, 'uid': 10481, 'aqi': '135', 'station': {'name': 'Pak Prak, Kanchanaburi, Kanchanaburi, Thailand (ต.ปากแพรก อ.เมือง จ.กาญจนบุรี)', 'time': '2025-02-23T20:00:00+09:00'}}, {'lat': 14.476214, 'lon': 100.086095, 'uid': 13633, 'aqi': '45', 'station': {'name': 'Suphan Buri Provincial Central Stadium, Thailand (สนามกีฬากลางจังหวัดสุพรรณบุรี)', 'time': '2025-02-23T20:00:00+09:00'}}, {'lat': 13.5705, 'lon': 100.7862867, 'uid': 1843, 'aqi': '99', 'station': {'name': 'National Housing Authority Bangplee, Samut Prakan, Thailand (การเคหะชุมชนบางพลี)', 'time': '2025-02-23T20:00:00+09:00'}}, {'lat': 14.685833, 'lon': 100.871996, 'uid': 1817, 'aqi': '104', 'station': {'name': 'Na Phralan Police Station Saraburi, Thailand (สถานีตำรวจภูธรหน้าพระลาน สระบุรี)', 'time': '2025-02-23T20:00:00+09:00'}}, {'lat': 18.567194, 'lon': 99.038639, 'uid': 1868, 'aqi': '83', 'station': {'name': 'Provincial Administrative Stadium, Lamphun, Thailand (สนามกีฬาองค์การบริหารส่วนจังหวัดลำพูน)', 'time': '2025-02-23T20:00:00+09:00'}}, {'lat': 10.026977, 'lon': 105.768249, 'uid': 13687, 'aqi': '26', 'station': {'name': 'Cần Thơ/Ninh Kiều - KTTV - Trạm cảm biến, Vietnam', 'time': '2025-02-23T20:00:00+09:00'}}, {'lat': 5.748449, 'lon': 102.515632, 'uid': 9498, 'aqi': '21', 'station': {'name': 'Besut, Terengganu, Malaysia', 'time': '2025-02-23T20:00:00+09:00'}}, {'lat': 20.89934, 'lon': 105.577276, 'uid': 13438, 'aqi': '45', 'station': {'name': 'Hà Nội/UBND TT Xuân Mai - Chương Mỹ, Vietnam', 'time': '2025-02-23T21:00:00+09:00'}}, {'lat': 13.599149, 'lon': 100.597345, 'uid': 1842, 'aqi': '113', 'station': {'name': 'City Hall, Samut Prakan, Thailand (ศาลากลางจังหวัดสมุทรปราการ)', 'time': '2025-02-23T20:00:00+09:00'}}, {'lat': 5.811172, 'lon': 102.1345, 'uid': 2585, 'aqi': '42', 'station': {'name': 'Tanah Merah, Kelantan, Malaysia', 'time': '2025-02-23T21:00:00+09:00'}}, {'lat': 16.44538333, 'lon': 102.83525, 'uid': 3688, 'aqi': '76', 'station': {'name': 'Khonkaen, Thailand (ส่วนอุทกวิทยา สำนักงานทรัพยากรน้ำภาค 4 ขอนแก่น)', 'time': '2025-02-23T20:00:00+09:00'}}, {'lat': 16.8256, 'lon': 96.1445, 'uid': 11784, 'aqi': '95', 'station': {'name': 'Rangoon US Embassy, Maynmar', 'time': '2025-02-23T20:30:00+09:00'}}, {'lat': 18.7909333, 'lon': 98.99, 'uid': 1822, 'aqi': '81', 'station': {'name': 'Yupparaj Wittayalai School, Chiangmai, Thailand (โรงเรียนยุพราชวิทยาลัย)', 'time': '2025-02-23T20:00:00+09:00'}}, {'lat': 13.907861, 'lon': 100.535641, 'uid': 1816, 'aqi': '86', 'station': {'name': 'Sukhothai Thammathirat Open University, Nonthaburi, Thailand (มหาวิทยาลัยสุโขทัยธรรมาธิราช)', 'time': '2025-02-23T20:00:00+09:00'}}, {'lat': 13.5234, 'lon': 99.814082, 'uid': 6818, 'aqi': '91', 'station': {'name': 'Regional Environmental Office 8, Thailand (สำนักงานสิ่งแวดล้อมภาคที่ 8 ราชบุรี)', 'time': '2025-02-23T20:00:00+09:00'}}, {'lat': 18.2508166, 'lon': 99.76395, 'uid': 8324, 'aqi': '79', 'station': {'name': 'Health Promotion Hospital Sob Pad, Lampang, Thailand (โรงพยาบาลส่งเสริมสุขภาพตำบลบ้านสบป้าด ลำปาง)', 'time': '2025-02-23T20:00:00+09:00'}}, {'lat': 20.439944444444, 'lon': 99.913666666667, 'uid': 1832, 'aqi': '76', 'station': {'name': 'Maesai Health Office, Chiangrai, Thailand (สำนักงานสาธารณสุขอำเภอแม่สาย เชียงราย)', 'time': '2025-02-23T20:00:00+09:00'}}, {'lat': 13.5885, 'lon': 101.2863333, 'uid': 1863, 'aqi': '74', 'station': {'name': 'Wang Yen Subdistrict Administrative, Chachoengsao, Thailand (องค์การบริหารส่วนตำบลวังเย็น)', 'time': '2025-02-23T20:00:00+09:00'}}, {'lat': 13.691888, 'lon': 102.502267, 'uid': 1869, 'aqi': '78', 'station': {'name': 'Sriaranyothai Kindergarten, Aranyaprathed, Sa Kaeo, Thailand (โรงเรียนอนุบาลศรีอรัญโญทัย สระแก้ว)', 'time': '2025-02-23T20:00:00+09:00'}}, {'lat': 17.87748, 'lon': 102.728925, 'uid': 12795, 'aqi': '52', 'station': {'name': 'T.Meechai A.Muang Nongkhai Province, Thailand (ต.มีชัย อ.เมืองหนองคาย จ.หนองคาย)', 'time': '2025-02-23T20:00:00+09:00'}}, {'lat': 13.35461667, 'lon': 100.9792167, 'uid': 1849, 'aqi': '80', 'station': {'name': 'General Education Office, Chonburi, Thailand (สำนักงานสามัญศึกษาชลบุรี)', 'time': '2025-02-23T20:00:00+09:00'}}, {'lat': 6.546205, 'lon': 101.283137, 'uid': 1866, 'aqi': '37', 'station': {'name': 'White Elephant Park, Yala, Thailand (สนามโรงพิธีช้างเผือก ยะลา)', 'time': '2025-02-23T19:00:00+09:00'}}, {'lat': 17.15662, 'lon': 104.133216, 'uid': 13631, 'aqi': '52', 'station': {'name': 'Meteorological stations, Sakon Nakhon, Thailand (สถานีอุตุนิยมวิทยาสกลนคร)', 'time': '2025-02-23T21:00:00+09:00'}}, {'lat': 13.832076, 'lon': 100.057961, 'uid': 12759, 'aqi': '41', 'station': {'name': 'Mueang, Nakhon Pathom, Thailand (ต.นครปฐม อ.เมือง จ.นครปฐม)', 'time': '2025-02-23T20:00:00+09:00'}}, {'lat': 18.840732, 'lon': 98.96978, 'uid': 6817, 'aqi': '93', 'station': {'name': 'City Hall, Chiangmai, Thailand (ศาลากลางเชียงใหม่)', 'time': '2025-02-23T20:00:00+09:00'}}, {'lat': 8.426923, 'lon': 99.961469, 'uid': 13629, 'aqi': '28', 'station': {'name': 'Elderly Health Rehabilitation Center, Thailand (ศูนย์ฟื้นฟูสุขภาพผู้สูงอายุ)', 'time': '2025-02-23T19:00:00+09:00'}}, {'lat': 13.917563, 'lon': 101.590529, 'uid': 9014, 'aqi': '85', 'station': {'name': 'Tha Tum, Si Maha Phot, Prachin Buri, Thailand (ต.ท่าตูม อ.ศรีมหาโพธิ จ.ปราจีนบุรี)', 'time': '2025-02-23T20:00:00+09:00'}}, {'lat': 13.054551, 'lon': 101.098128, 'uid': 8322, 'aqi': '66', 'station': {'name': 'Health Promotion Hospital Ban Khao Hin,Chonburi, Thailand (โรงพยาบาลส่งเสริมสุขภาพตำบลบ้านเขาหิน ชลบุรี)', 'time': '2025-02-23T20:00:00+09:00'}}, {'lat': 13.5502631, 'lon': 100.2647676, 'uid': 6814, 'aqi': '87', 'station': {'name': 'Provincial Administrative Organization, Samut Sakhon, Thailand (องค์การบริหารส่วนจังหวัดสมุทรสาคร)', 'time': '2025-02-23T20:00:00+09:00'}}, {'lat': 13.7054879, 'lon': 100.315622, 'uid': 1814, 'aqi': '68', 'station': {'name': 'Highway District, Samut Sakhon, Thailand (แขวงการทางสมุทรสาคร)', 'time': '2025-02-23T20:00:00+09:00'}}, {'lat': 15.68623, 'lon': 100.110556, 'uid': 1825, 'aqi': '93', 'station': {'name': 'Nakhonsawan Irrigation , Nakhon Sawan, Thailand (โครงการชลประทานนครสวรรค์)', 'time': '2025-02-23T20:00:00+09:00'}}, {'lat': 12.234862, 'lon': 102.523721, 'uid': 13632, 'aqi': '58', 'station': {'name': 'Trat Provincial Central Stadium, Thailand (สนามกีฬากลางจังหวัดตราด)', 'time': '2025-02-23T20:00:00+09:00'}}, {'lat': 15.245413, 'lon': 104.846219, 'uid': 12797, 'aqi': '48', 'station': {'name': 'Nai Mueang,Mueang,Ubon Ratchathani , Thailand (ต.ในเมือง อ.เมือง จ.อุบลราชธานี)', 'time': '2025-02-23T20:00:00+09:00'}}, {'lat': 19.91053, 'lon': 105.4039, 'uid': 14927, 'aqi': '-', 'station': {'name': 'Thanh Hoá/UBND P. Lam Sơn, TX. Bỉm Sơn, Vietnam', 'time': '2025-02-22T08:00:00+09:00'}}, {'lat': 13.732846, 'lon': 100.487662, 'uid': 1812, 'aqi': '108', 'station': {'name': 'Bansomdejchaopraya Rajabhat University, Bangkok, Thailand (มหาวิทยาลัยราชภัฏบ้านสมเด็จเจ้าพระยา)', 'time': '2025-02-23T20:00:00+09:00'}}, {'lat': 11.80027, 'lon': 99.790596, 'uid': 13576, 'aqi': '73', 'station': {'name': 'Prachuap Khiri Khan - Gaia Station 10, Thailand', 'time': '2025-02-23T21:00:00+09:00'}}, {'lat': 19.200226, 'lon': 99.893048, 'uid': 1831, 'aqi': '88', 'station': {'name': 'Knowledge Park, Phayao, Thailand (อุทยานการเรียนรู้กว๊านพะเยา)', 'time': '2025-02-23T20:00:00+09:00'}}, {'lat': 18.4267833, 'lon': 99.7576333, 'uid': 8325, 'aqi': '78', 'station': {'name': 'Health Promotion Hospital Ta See, Lampang, Thailand (โรงพยาบาลส่งเสริมสุขภาพตำบลบ้านท่าสี ลำปาง)', 'time': '2025-02-23T20:00:00+09:00'}}, {'lat': 6.147431, 'lon': 102.249236, 'uid': 9556, 'aqi': '47', 'station': {'name': 'Kota Bharu, Kelantan, Malaysia', 'time': '2025-02-23T21:00:00+09:00'}}, {'lat': 5.763873, 'lon': 101.067903, 'uid': 12760, 'aqi': '23', 'station': {'name': 'Betong, Thailand (ต.เบตง อ.เบตง จ.ยะลา)', 'time': '2025-02-23T20:00:00+09:00'}}, {'lat': 6.331539, 'lon': 99.85846, 'uid': 2583, 'aqi': '26', 'station': {'name': 'Langkawi, Kedah, Malaysia', 'time': '2025-02-23T20:00:00+09:00'}}, {'lat': 17.412345, 'lon': 104.7786123, 'uid': 13630, 'aqi': '25', 'station': {'name': 'Meteorological stations, Nakhon Phanom, Thailand (สถานีอุตุนิยมวิทยานครพนม)', 'time': '2025-02-23T21:00:00+09:00'}}, {'lat': 6.624747, 'lon': 100.066159, 'uid': 10482, 'aqi': '34', 'station': {'name': 'Phiman, Satun, Satun, Thailand (ต.พิมาน อ.เมือง จ.สตูล)', 'time': '2025-02-23T19:00:00+09:00'}}, {'lat': 13.428581, 'lon': 100.024664, 'uid': 12796, 'aqi': '78', 'station': {'name': 'Lat Yai,Mueang,Samut Songkhram, Thailand (ต.ลาดใหญ่ อ.เมือง จ.สมุทรสงคราม)', 'time': '2025-02-23T20:00:00+09:00'}}, {'lat': 16.734413, 'lon': 98.566961, 'uid': 9013, 'aqi': '93', 'station': {'name': 'Mae Pa,Mae Sot,Tak, Thailand (ต.แม่ปะ อ.แม่สอด จ.ตาก)', 'time': '2025-02-23T20:00:00+09:00'}}, {'lat': 19.5759666, 'lon': 101.0815166, 'uid': 8503, 'aqi': '93', 'station': {'name': 'Huai Kon, Chaloem Phra Kiat, Nan, Thailand (ต.ห้วยโก๋น อ.เฉลิมพระเกียรติ จ.น่าน)', 'time': '2025-02-23T20:00:00+09:00'}}, {'lat': 6.429922, 'lon': 100.211069, 'uid': 2599, 'aqi': '32', 'station': {'name': 'Kangar, Perlis, Malaysia', 'time': '2025-02-23T21:00:00+09:00'}}, {'lat': 7.884488, 'lon': 98.391283, 'uid': 1827, 'aqi': '35', 'station': {'name': 'Municipal Health Center 1, Phuket, Thailand (ศูนย์บริการสาธารณสุข 1 กองการแพทย์ เทศบาลนครภูเก็ต)', 'time': '2025-02-23T19:00:00+09:00'}}, {'lat': 17.414174, 'lon': 102.780926, 'uid': 13637, 'aqi': '56', 'station': {'name': 'Nong Prajak Public Park, Udon Thani, Thailand (สวนสาธารณะหนองประจักษ์ อุดรธานี)', 'time': '2025-02-23T20:00:00+09:00'}}, {'lat': 17.631352, 'lon': 100.09896, 'uid': 13636, 'aqi': '71', 'station': {'name': '72nd Anniversary King Bhumibol Public Park, Uttaradit, Thailand (สวนมหามงคลเฉลิมพระชนมพรรษา 6 รอบ 5 ธันวาคม 2552 อุตรดิตถ์)', 'time': '2025-02-23T20:00:00+09:00'}}, {'lat': 18.2783333, 'lon': 99.5064666, 'uid': 1823, 'aqi': '84', 'station': {'name': 'Lampang Meteorological Station, Thailand (สถานีอุตุนิยมวิทยาลำปาง)', 'time': '2025-02-23T20:00:00+09:00'}}, {'lat': 18.1283666, 'lon': 100.1624333, 'uid': 1830, 'aqi': '72', 'station': {'name': 'Phrae Meteorological Station, Thailand (สถานีอุตุนิยมวิทยาแพร่)', 'time': '2025-02-23T20:00:00+09:00'}}, {'lat': 18.7888833, 'lon': 100.7763166, 'uid': 1867, 'aqi': '96', 'station': {'name': 'Municipality Office, Nan, Thailand (สำนักงานเทศบาลเมืองน่าน)', 'time': '2025-02-23T20:00:00+09:00'}}, {'lat': 18.2826333, 'lon': 99.6598166, 'uid': 3686, 'aqi': '79', 'station': {'name': 'Provincial Waterworks Authority Mae Moh, Lampang, Thailand (การประปาส่วนภูมิภาคแม่เมาะ)', 'time': '2025-02-23T20:00:00+09:00'}}, {'lat': 9.126017, 'lon': 99.325145, 'uid': 1826, 'aqi': '34', 'station': {'name': 'Regional Environmental Office 14, Surat Thani, Thailand (สำนักงานสิ่งแวดล้อมภาคที่ 14)', 'time': '2025-02-23T19:00:00+09:00'}}, {'lat': 13.7954248, 'lon': 100.5930298, 'uid': 1860, 'aqi': '94', 'station': {'name': 'Chokchai Police Station, Bangkok, Thailand (สถานีตำรวจนครบาลโชคชัย)', 'time': '2025-02-23T20:00:00+09:00'}}, {'lat': 13.636514, 'lon': 100.414262, 'uid': 1833, 'aqi': '79', 'station': {'name': 'Ratburana Post Office, Bangkok, Thailand (ไปรษณีย์ราษฏร์บูรณะ)', 'time': '2025-02-23T19:00:00+09:00'}}, {'lat': 16.820833, 'lon': 100.258056, 'uid': 13635, 'aqi': '110', 'station': {'name': 'Chom Nan Chaloem Phrakiat Public Park, Thailand (สวนชมน่านเฉลิมพระเกียรติ)', 'time': '2025-02-23T21:00:00+09:00'}}, {'lat': 12.70865, 'lon': 101.1659833, 'uid': 1819, 'aqi': '106', 'station': {'name': 'Health Promotion Hospital Maptaput, Rayong, Thailand (โรงพยาบาลส่งเสริมสุขภาพตำบลมาบตาพุด)', 'time': '2025-02-23T20:00:00+09:00'}}, {'lat': 6.426853, 'lon': 101.823388, 'uid': 1865, 'aqi': '38', 'station': {'name': 'City Hall, Narathiwat, Thailand (ศาลากลางจังหวัดนราธิวาส)', 'time': '2025-02-23T19:00:00+09:00'}}, {'lat': 6.137244, 'lon': 100.346815, 'uid': 2581, 'aqi': '35', 'station': {'name': 'Alor Setar, Kedah, Malaysia', 'time': '2025-02-23T21:00:00+09:00'}}, {'lat': 17.896122, 'lon': 102.64, 'uid': 11783, 'aqi': '82', 'station': {'name': 'Vientiane US Embassy, Laos', 'time': '2025-02-23T21:00:00+09:00'}}, {'lat': 21.0215063, 'lon': 105.8188748, 'uid': 8641, 'aqi': '74', 'station': {'name': 'Hanoi US Embassy, Vietnam (Đại sứ quán Mỹ, Hà Nội)', 'time': '2025-02-23T21:00:00+09:00'}}, {'lat': 18.675369, 'lon': 105.690945, 'uid': 13666, 'aqi': '-', 'station': {'name': 'Nghệ An/Trường Thi, Thành phố Vinh - KTTV - Trạm cảm biến, Vietnam', 'time': '2025-02-23T02:00:00+09:00'}}, {'lat': 17.4525229, 'lon': 101.7272395, 'uid': 1870, 'aqi': '52', 'station': {'name': 'Provincial Health Office, Loei, Thailand (สำนักงานสาธารณสุขจังหวัดเลย)', 'time': '2025-02-23T20:00:00+09:00'}}, {'lat': 19.687157, 'lon': 100.19024, 'uid': 9450, 'aqi': '48', 'station': {'name': 'Chiangrai - Gaia Station 01, Thailand', 'time': '2025-02-23T21:00:00+09:00'}}, {'lat': 7.020434, 'lon': 100.484088, 'uid': 1852, 'aqi': '35', 'station': {'name': 'Hat Yai Municipality, Songkhla, Thailand (เทศบาลนครหาดใหญ่)', 'time': '2025-02-23T19:00:00+09:00'}}, {'lat': 21.002383, 'lon': 105.718038, 'uid': 13439, 'aqi': '38', 'station': {'name': 'Hà Nội/UBND xã An Khánh - Hoài Đức, Vietnam', 'time': '2025-02-23T21:00:00+09:00'}}, {'lat': 14.35222, 'lon': 100.565325, 'uid': 1815, 'aqi': '84', 'station': {'name': 'Ayutthaya Witthayalai School, Ayutthaya, Thailand (โรงเรียนอยุธยาวิทยาลัย)', 'time': '2025-02-23T20:00:00+09:00'}}, {'lat': 14.526343, 'lon': 100.926047, 'uid': 1844, 'aqi': '77', 'station': {'name': 'Khao Noi Fire Station, Saraburi, Thailand (สถานีดับเพลิงเขาน้อย)', 'time': '2025-02-23T20:00:00+09:00'}}, {'lat': 14.03742, 'lon': 100.605216, 'uid': 4693, 'aqi': '78', 'station': {'name': 'Bangkok University Rangsit Campus, Pathum Thani, Thailand (มหาวิทยาลัยกรุงเทพ วิทยาเขตรังสิต)', 'time': '2025-02-23T20:00:00+09:00'}}, {'lat': 19.30455, 'lon': 97.97165, 'uid': 1829, 'aqi': '76', 'station': {'name': 'Natural Resources and Environment Office, Mae Hongson, Thailand (สำนักงานทรัพยากรธรรมชาติและสิ่งแวดล้อมจังหวัดแม่ฮ่องสอน)', 'time': '2025-02-23T20:00:00+09:00'}}, {'lat': 7.570238, 'lon': 99.588743, 'uid': 13628, 'aqi': '18', 'station': {'name': 'Polytechnic College, Trang, Thailand (วิทยาลัยสารพัดช่างตรัง)', 'time': '2025-02-23T20:00:00+09:00'}}, {'lat': 14.979537, 'lon': 102.098335, 'uid': 1854, 'aqi': '72', 'station': {'name': 'Municipal Waste Water Pumping Station, Nakhon Ratchasima, Thailand (สถานีสูบน้ำเสีย เทศบาลนครราชสีมา)', 'time': '2025-02-23T20:00:00+09:00'}}, {'lat': 12.97378333, 'lon': 101.21285, 'uid': 5534, 'aqi': '72', 'station': {'name': 'Pluakdaeng District Health Office, Thailand (สำนักงานสาธารณสุขอำเภอปลวกแดง)', 'time': '2025-02-23T20:00:00+09:00'}}, {'lat': 13.664087, 'lon': 100.543436, 'uid': 1836, 'aqi': '99', 'station': {'name': 'Prabadang Rehabiltation Center, Samut Prakan, Thailand (ศูนย์ฟื้นฟูอาชีพคนพิการและทุพลภาพ สมุทรปราการ)', 'time': '2025-02-23T20:00:00+09:00'}}]}\n",
      "ok\n",
      "79\n"
     ]
    }
   ],
   "source": [
    "aqi_data = fetch_data()\n",
    "print(aqi_data['status'])\n",
    "print(len(aqi_data['data']))"
   ]
  },
  {
   "cell_type": "code",
   "execution_count": 6,
   "metadata": {},
   "outputs": [],
   "source": [
    "validate_data(aqi_data)"
   ]
  },
  {
   "cell_type": "code",
   "execution_count": 7,
   "metadata": {},
   "outputs": [
    {
     "name": "stdout",
     "output_type": "stream",
     "text": [
      "     uid aqi   latitude   longitude  \\\n",
      "0  10482  34   6.624747  100.066159   \n",
      "1   8322  88  13.054551  101.098128   \n",
      "2  13629  28   8.426923   99.961469   \n",
      "\n",
      "                                        station_name                 timestamp  \n",
      "0  Phiman, Satun, Satun, Thailand (ต.พิมาน อ.เมือ... 2025-02-23 19:00:00+09:00  \n",
      "1  Health Promotion Hospital Ban Khao Hin,Chonbur... 2025-02-23 19:00:00+09:00  \n",
      "2  Elderly Health Rehabilitation Center, Thailand... 2025-02-23 19:00:00+09:00  \n"
     ]
    }
   ],
   "source": [
    "parse_aqi_data = parse_data(aqi_data)\n",
    "print(parse_aqi_data[:3])"
   ]
  },
  {
   "cell_type": "code",
   "execution_count": 8,
   "metadata": {},
   "outputs": [
    {
     "name": "stdout",
     "output_type": "stream",
     "text": [
      "     uid   aqi   latitude   longitude  \\\n",
      "0  10482  34.0   6.624747  100.066159   \n",
      "1   8322  88.0  13.054551  101.098128   \n",
      "2  13629  28.0   8.426923   99.961469   \n",
      "\n",
      "                                        station_name                 timestamp  \n",
      "0  Phiman, Satun, Satun, Thailand (ต.พิมาน อ.เมือ... 2025-02-23 19:00:00+09:00  \n",
      "1  Health Promotion Hospital Ban Khao Hin,Chonbur... 2025-02-23 19:00:00+09:00  \n",
      "2  Elderly Health Rehabilitation Center, Thailand... 2025-02-23 19:00:00+09:00  \n"
     ]
    }
   ],
   "source": [
    "clean_aqi_data = clean_data(parse_aqi_data)\n",
    "print(clean_aqi_data[:3])"
   ]
  },
  {
   "cell_type": "code",
   "execution_count": 10,
   "metadata": {},
   "outputs": [],
   "source": [
    "import psycopg2\n",
    "\n",
    "# Database connection parameters\n",
    "db_params = {\n",
    "    'dbname': 'air_data',\n",
    "    'user': 'admin',\n",
    "    'password': 'adminpassword',\n",
    "    'host': 'localhost',\n",
    "    'port': '54329'\n",
    "}\n",
    "\n",
    "# Establish a connection to the PostgreSQL database\n",
    "conn = psycopg2.connect(**db_params)\n",
    "\n",
    "# Push the cleaned AQI data to the database\n",
    "push_data = push_to_db(conn, clean_aqi_data)\n",
    "\n",
    "# Close the connection\n",
    "conn.close()"
   ]
  }
 ],
 "metadata": {
  "kernelspec": {
   "display_name": "Python 3",
   "language": "python",
   "name": "python3"
  },
  "language_info": {
   "codemirror_mode": {
    "name": "ipython",
    "version": 3
   },
   "file_extension": ".py",
   "mimetype": "text/x-python",
   "name": "python",
   "nbconvert_exporter": "python",
   "pygments_lexer": "ipython3",
   "version": "3.12.6"
  }
 },
 "nbformat": 4,
 "nbformat_minor": 2
}
